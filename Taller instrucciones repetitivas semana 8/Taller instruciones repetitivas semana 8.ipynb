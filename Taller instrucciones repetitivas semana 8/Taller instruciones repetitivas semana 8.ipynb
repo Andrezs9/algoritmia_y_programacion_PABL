{
  "cells": [
    {
      "cell_type": "markdown",
      "metadata": {
        "id": "QZ6XziVD76Jw"
      },
      "source": [
        "<h1 align=\"center\">Taller - Instrucciones repetitivas en Python</h1>\n",
        "\n",
        "Desarrolle la solucion a los siguientes problemas en Python, usando funciones y el programa correspondiente\n",
        "\n",
        "---"
      ]
    },
    {
      "cell_type": "markdown",
      "metadata": {
        "id": "uJJp2xk076J1"
      },
      "source": [
        "## Ejercicio 01\n",
        "\n",
        "Una librería ofrece dos tipos de descuentos ante la compra de un libro. Si el libro tiene un precio inferior a cien mil pesos, el descuento es del 12% del precio; pero en cualquier otro caso, el descuento asciende a un 18%.\n",
        "\n",
        "* Escriba una función que halle el precio neto de un libro (precio menos descuento) de un libro, dado el precio del libro.\n",
        "* Ahora, escriba un programa que permita leer el precio de varios libros (finalizar cuando el precio es cero o negativo) y mostrar para cada libro, el precio neto (usando la función desarrollada anteriormente)"
      ]
    },
    {
      "cell_type": "code",
      "execution_count": 3,
      "metadata": {
        "id": "58mamZV176J2",
        "colab": {
          "base_uri": "https://localhost:8080/"
        },
        "outputId": "489e5aed-f403-4120-ee04-db5d44ee28ec"
      },
      "outputs": [
        {
          "name": "stdout",
          "output_type": "stream",
          "text": [
            "ingrese precio del libro: 106000\n",
            "el precio neto es:  86920.0\n",
            "ingrese precio del libro: 0\n"
          ]
        }
      ],
      "source": [
        "# Definición de la función\n",
        "def hallar_precio_neto(precio_libro: float )-> float:\n",
        "  if precio_libro < 100_000:\n",
        "    precio_neto = precio_libro - (precio_libro * 0.12)\n",
        "  else:\n",
        "    precio_neto = precio_libro - (precio_libro * 0.18)\n",
        "  return precio_neto\n",
        "\n",
        "# Programa principal\n",
        "precio_libro = float(input(\"ingrese precio del libro: \"))\n",
        "while precio_libro > 0:\n",
        "  precio_neto = hallar_precio_neto(precio_libro)\n",
        "  print (\"el precio neto es: \", precio_neto)\n",
        "  precio_libro = float(input(\"ingrese precio del libro: \"))"
      ]
    },
    {
      "cell_type": "markdown",
      "metadata": {
        "id": "jF4Qm9FE76J3"
      },
      "source": [
        "---"
      ]
    },
    {
      "cell_type": "markdown",
      "metadata": {
        "id": "weyR_q0d76J4"
      },
      "source": [
        "## Ejercicio 02\n",
        "\n",
        "Un vendedor recibe una comisión por el volumen de ventas que realice. Las reglas para asignarle la comisión al vendedor son las siguientes:\n",
        "\n",
        "Ventas | Comisión\n",
        "---|---\n",
        "Inferior a 50 mil pesos | 7% de las ventas\n",
        "Entre 50 mil y 100 mil pesos | 9% de las ventas más 5 mil pesos\n",
        "Entre 100 mil y 200 mil pesos | 11% de las ventas más 10 mil pesos\n",
        "Entre 200 mil y 500 mil pesos | 13% de las ventas más 20 mil pesos\n",
        "Más de 500 mil pesos | 15% de las ventas más 40 mil pesos\n",
        "\n",
        "* Escriba una función que recibe el valor de las ventas de un vendedor y que retorne la comisión\n",
        "* Escriba un programa que lea el valor de ventas de varios vendedores de la empresa (finalizar cuando las ventas sean negativas), y usando la función anterior, calcule la comisión y la imprima por pantalla."
      ]
    },
    {
      "cell_type": "code",
      "execution_count": 4,
      "metadata": {
        "id": "kMitVJVW76J4",
        "colab": {
          "base_uri": "https://localhost:8080/"
        },
        "outputId": "37f1f5b5-6247-4340-d862-4072f48de2b3"
      },
      "outputs": [
        {
          "name": "stdout",
          "output_type": "stream",
          "text": [
            "ingrese valor de la venta: 101000\n",
            "su comision es:  21110.0\n",
            "ingrese valor de la venta: 500000\n",
            "su comision es:  115000.0\n",
            "ingrese valor de la venta: 0\n"
          ]
        }
      ],
      "source": [
        "# Definición de la función\n",
        "def valor_ventas(ventas:float)-> float:\n",
        "  if (ventas<50_000):\n",
        "    ventas_comision = (ventas*0.07)\n",
        "  elif (ventas>=50_000 and ventas<100_000):\n",
        "    ventas_comision = ((ventas*0.09)+5_000)\n",
        "  elif (ventas>=100_000 and ventas<200_000):\n",
        "    ventas_comision = ((ventas*0.11)+10_000)\n",
        "  elif (ventas>=200_000 and ventas<500_000):\n",
        "    ventas_comision = ((ventas*0.13)+20_000)\n",
        "  elif (ventas>=500_000):\n",
        "    ventas_comision = ((ventas*0.15)+40_000)\n",
        "  return ventas_comision\n",
        "\n",
        "\n",
        "# Programa principal\n",
        "ventas = float(input(\"ingrese valor de la venta: \"))\n",
        "while ventas>0:\n",
        "  ventas_comision = valor_ventas(ventas)\n",
        "  print(\"su comision es: \",ventas_comision)\n",
        "  ventas = float(input(\"ingrese valor de la venta: \"))\n"
      ]
    },
    {
      "cell_type": "markdown",
      "metadata": {
        "id": "YWyFJrR876J4"
      },
      "source": [
        "---\n"
      ]
    },
    {
      "cell_type": "code",
      "execution_count": 11,
      "metadata": {
        "id": "aTuMvKmw76J5",
        "colab": {
          "base_uri": "https://localhost:8080/"
        },
        "outputId": "a5924ec2-9980-414b-d58c-b8d710e6a5a5"
      },
      "outputs": [
        {
          "name": "stdout",
          "output_type": "stream",
          "text": [
            "Ingrese sueldo: 1000000\n",
            "Ingrese valor ventas: 70000\n",
            "Su salario neto es: 1008400.0\n",
            "Su comisión es: 8400.0\n",
            "¿Desea continuar? 1 para sí, 2 para no: 2\n"
          ]
        }
      ],
      "source": [
        "# Definición de la función\n",
        "def calcular_comision(salario:float, ventas:float)->(float,float):\n",
        "    if (ventas>=50_000):\n",
        "        comision = ventas * 0.12\n",
        "        salario_neto=salario + comision\n",
        "    else:\n",
        "        comision = 0\n",
        "    salario_neto=salario + comision\n",
        "    return comision, salario_neto\n",
        "\n",
        "# Programa principal\n",
        "while True:\n",
        "    salario = float(input(\"Ingrese sueldo: \"))\n",
        "    ventas = float(input(\"Ingrese valor ventas: \"))\n",
        "    comision, salario_neto = calcular_comision(salario, ventas)\n",
        "    print(\"Su salario neto es:\", salario_neto)\n",
        "    print(\"Su comisión es:\", comision)\n",
        "    continuar = int(input(\"¿Desea continuar? 1 para sí, 2 para no: \"))\n",
        "    if continuar == 2:\n",
        "        break"
      ]
    },
    {
      "cell_type": "markdown",
      "metadata": {
        "id": "2IHUrLVh76J5"
      },
      "source": [
        "## Ejercicio 03\n",
        "\n",
        "Una empresa ofrece a sus empleados un salario mensual fijo, y un porcertaje de las ventas como una comisión adicional a ese salario mensual. Esta comisión se calcula de la siguiente manera: si las ventas de un empleado excede los 50 mil pesoso, la comisión será de un 12% de las ventas que están por encima de los 50 mil pesos, en otro caso no habrá comisión.\n",
        "\n",
        "* Primero, construya una función en la que dado las ventas que hizo el empleado, determine cuánto es la comisión\n",
        "* Ahora hay que hacer un programa que calcule y muestre los salarios y comisiones de todos los empleados de la empresa. Para cada empleado hay que preguntarle al usuario, el salario mensual y las ventas realizadas, y mostrar la comisión por las ventas (usando la función anterior) y el salario neto (salario más comisión). Como no sabemos cuántos empleados hay, después de mostrar esta información, debemos preguntarle al usuario si desea seguir o no."
      ]
    },
    {
      "cell_type": "markdown",
      "metadata": {
        "id": "6M93ZEZh76J5"
      },
      "source": [
        "---"
      ]
    },
    {
      "cell_type": "markdown",
      "metadata": {
        "id": "ge6TBY0P76J6"
      },
      "source": [
        "## Ejercicio 04\n",
        "\n",
        "En una empresa se le paga a los trabajadores al final de cada semana de acuerdo a las reglas dadas a continuación:\n",
        "\n",
        "* Si trabajas 35 horas o menos, se le paga un valor de 15 mil pesos la hora;\n",
        "* Si trabaja más de 35 horas pero menos de 60, el valor de la hora es de 15 mil por las primeras 35 horas y de 18 mil por cada hora trabajada por encima de las 35\n",
        "* Si trabaja más de 60 horas, las primeras 35 se pagan a 15 mil, las siguiente 25 horas a 18 mil cada una y las horas horas trabajadas por encima de las 60 horas, se le paga a 25 mil pesos cada una.\n",
        "\n",
        "Vamos a buscar imprimir el salario semanal de cada uno de los empleados de la empresa. Para ello:\n",
        "\n",
        "* Escriba una función que reciba el número de horas trabajadas por un empleado y retorne el salario\n",
        "* Un programa que le pregunte al usuario el número de empleados que trabajan en la empresa, y para cada uno de esos, pregunte el número de horas trabajadas en la semana, y usando la función anterior, imprima el salario mensual de ese empleado."
      ]
    },
    {
      "cell_type": "code",
      "execution_count": 5,
      "metadata": {
        "id": "o8NultX076J6",
        "colab": {
          "base_uri": "https://localhost:8080/"
        },
        "outputId": "11915d6a-d691-41c7-9413-caad4157a4dd"
      },
      "outputs": [
        {
          "output_type": "stream",
          "name": "stdout",
          "text": [
            "ingrese cantidad de trabajadores2\n",
            "ingrese horas trabajadas35\n",
            "su salario es:  525000\n",
            "ingrese horas trabajadas65\n",
            "su salario es:  1100000\n"
          ]
        }
      ],
      "source": [
        "# Definición de la función\n",
        "def salario_semanal(horas_trabajadas:int)->int:\n",
        "  if horas_trabajadas<35:\n",
        "    salario = horas_tabajadas * 15_000\n",
        "  elif horas_trabajadas < 60:\n",
        "    salario = (35 * 15_000) + ((horas_trabajadas - 35) * 18_000)\n",
        "  elif horas_trabajadas >= 60:\n",
        "    salario = (35 * 15_000) + (25 * 18_000) + ((horas_trabajadas - 60) * 25_000)\n",
        "  return salario\n",
        "\n",
        "# Programa principal\n",
        "numero_trabajadores=int (input(\"ingrese cantidad de trabajadores\"))\n",
        "for i in range (numero_trabajadores):\n",
        "  horas_trabajadas = int (input(\"ingrese horas trabajadas\"))\n",
        "  salario = salario_semanal(horas_trabajadas)\n",
        "  print (\"su salario es: \" ,salario)"
      ]
    }
  ],
  "metadata": {
    "colab": {
      "provenance": []
    },
    "kernelspec": {
      "display_name": "Python 3",
      "language": "python",
      "name": "python3"
    },
    "language_info": {
      "codemirror_mode": {
        "name": "ipython",
        "version": 3
      },
      "file_extension": ".py",
      "mimetype": "text/x-python",
      "name": "python",
      "nbconvert_exporter": "python",
      "pygments_lexer": "ipython3",
      "version": "3.7.7"
    }
  },
  "nbformat": 4,
  "nbformat_minor": 0
}